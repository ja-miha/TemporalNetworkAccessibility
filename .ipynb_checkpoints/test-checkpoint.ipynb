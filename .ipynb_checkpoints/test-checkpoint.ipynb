{
 "cells": [
  {
   "cell_type": "code",
   "execution_count": 1,
   "metadata": {},
   "outputs": [],
   "source": [
    "import numpy as np\n",
    "import pandas as pd\n",
    "import random as rn\n",
    "from src.AdjacencyMatrixSequence import AdjMatrixSequence"
   ]
  },
  {
   "cell_type": "code",
   "execution_count": 2,
   "metadata": {},
   "outputs": [],
   "source": [
    "file_path = \"edgelists/sociopatterns_hypertext.dat\""
   ]
  },
  {
   "cell_type": "code",
   "execution_count": 3,
   "metadata": {},
   "outputs": [],
   "source": [
    "AMS = AdjMatrixSequence(file_path, directed=True)"
   ]
  },
  {
   "cell_type": "code",
   "execution_count": 4,
   "metadata": {},
   "outputs": [
    {
     "data": {
      "text/plain": [
       "113"
      ]
     },
     "execution_count": 4,
     "metadata": {},
     "output_type": "execute_result"
    }
   ],
   "source": [
    "n_nodes = AMS.number_of_nodes\n",
    "n_nodes"
   ]
  },
  {
   "cell_type": "code",
   "execution_count": 5,
   "metadata": {},
   "outputs": [],
   "source": [
    "sentinels_ls = rn.sample(range(n_nodes), 10)\n",
    "sentinels = {d : sentinels_ls for d in range(10497) if d % 10 == 0}\n",
    "starts = rn.sample(range(n_nodes), 3)"
   ]
  },
  {
   "cell_type": "code",
   "execution_count": 6,
   "metadata": {},
   "outputs": [],
   "source": [
    "si_model = AMS.copy()\n",
    "si_model.dilute(0.85)"
   ]
  },
  {
   "cell_type": "code",
   "execution_count": 7,
   "metadata": {},
   "outputs": [
    {
     "name": "stdout",
     "output_type": "stream",
     "text": [
      "Starting epidemic at node  23\n",
      "Starting epidemic at node  101\n",
      "Starting epidemic at node  88\n"
     ]
    }
   ],
   "source": [
    "results = []\n",
    "for start in starts:\n",
    "    result = si_model.unfold_accessibility_with_sentinels(sentinels, start)\n",
    "    results.append(result)"
   ]
  },
  {
   "cell_type": "code",
   "execution_count": 8,
   "metadata": {},
   "outputs": [
    {
     "data": {
      "text/plain": [
       "[[25, 230, 3],\n",
       " [64, 260, 12],\n",
       " [73, 270, 14],\n",
       " [97, 290, 21],\n",
       " [94, 390, 42],\n",
       " [39, 460, 54],\n",
       " [76, 720, 66],\n",
       " [79, 1020, 78],\n",
       " [70, 5820, 105],\n",
       " [25, 330, 2],\n",
       " [64, 390, 14],\n",
       " [94, 390, 14],\n",
       " [39, 460, 29],\n",
       " [76, 980, 61],\n",
       " [97, 1000, 63],\n",
       " [79, 1020, 64],\n",
       " [73, 4350, 87],\n",
       " [70, 5820, 102],\n",
       " [25, 350, 8],\n",
       " [64, 390, 14],\n",
       " [94, 390, 14],\n",
       " [39, 460, 27],\n",
       " [76, 980, 61],\n",
       " [97, 1000, 63],\n",
       " [79, 1020, 64],\n",
       " [73, 4350, 87],\n",
       " [70, 5820, 102]]"
      ]
     },
     "execution_count": 8,
     "metadata": {},
     "output_type": "execute_result"
    }
   ],
   "source": [
    "results_ls = []\n",
    "for dic in results:\n",
    "    ls = [[sent, dic[sent][0], dic[sent][1]] for sent in dic]\n",
    "    results_ls = results_ls + ls\n",
    "results_ls\n",
    "    "
   ]
  },
  {
   "cell_type": "code",
   "execution_count": 14,
   "metadata": {},
   "outputs": [
    {
     "data": {
      "text/html": [
       "<div>\n",
       "<style scoped>\n",
       "    .dataframe tbody tr th:only-of-type {\n",
       "        vertical-align: middle;\n",
       "    }\n",
       "\n",
       "    .dataframe tbody tr th {\n",
       "        vertical-align: top;\n",
       "    }\n",
       "\n",
       "    .dataframe thead th {\n",
       "        text-align: right;\n",
       "    }\n",
       "</style>\n",
       "<table border=\"1\" class=\"dataframe\">\n",
       "  <thead>\n",
       "    <tr style=\"text-align: right;\">\n",
       "      <th></th>\n",
       "      <th>sent</th>\n",
       "      <th>day</th>\n",
       "      <th>n_infected</th>\n",
       "    </tr>\n",
       "  </thead>\n",
       "  <tbody>\n",
       "    <tr>\n",
       "      <th>0</th>\n",
       "      <td>25</td>\n",
       "      <td>230</td>\n",
       "      <td>3</td>\n",
       "    </tr>\n",
       "    <tr>\n",
       "      <th>18</th>\n",
       "      <td>25</td>\n",
       "      <td>350</td>\n",
       "      <td>8</td>\n",
       "    </tr>\n",
       "    <tr>\n",
       "      <th>9</th>\n",
       "      <td>25</td>\n",
       "      <td>330</td>\n",
       "      <td>2</td>\n",
       "    </tr>\n",
       "    <tr>\n",
       "      <th>21</th>\n",
       "      <td>39</td>\n",
       "      <td>460</td>\n",
       "      <td>27</td>\n",
       "    </tr>\n",
       "    <tr>\n",
       "      <th>5</th>\n",
       "      <td>39</td>\n",
       "      <td>460</td>\n",
       "      <td>54</td>\n",
       "    </tr>\n",
       "  </tbody>\n",
       "</table>\n",
       "</div>"
      ],
      "text/plain": [
       "    sent  day  n_infected\n",
       "0     25  230           3\n",
       "18    25  350           8\n",
       "9     25  330           2\n",
       "21    39  460          27\n",
       "5     39  460          54"
      ]
     },
     "execution_count": 14,
     "metadata": {},
     "output_type": "execute_result"
    }
   ],
   "source": [
    "df = pd.DataFrame(results_ls, columns = [\"sent\", \"day\", \"n_infected\"])\n",
    "df = df.sort_values(\"sent\", axis=0)\n",
    "df.head()"
   ]
  },
  {
   "cell_type": "code",
   "execution_count": 10,
   "metadata": {},
   "outputs": [
    {
     "name": "stdout",
     "output_type": "stream",
     "text": [
      "{25: [[230, 3], [330, 2], [350, 8]], 39: [[460, 54], [460, 29], [460, 27]], 64: [[260, 12], [390, 14], [390, 14]], 70: [[5820, 105], [5820, 102], [5820, 102]], 73: [[270, 14], [4350, 87], [4350, 87]], 76: [[720, 66], [980, 61], [980, 61]], 79: [[1020, 78], [1020, 64], [1020, 64]], 94: [[390, 42], [390, 14], [390, 14]], 97: [[290, 21], [1000, 63], [1000, 63]]}\n"
     ]
    }
   ],
   "source": [
    "df_by_sent = {i : j.drop(\"sent\", axis = 1).to_numpy().tolist() for i, j in df.groupby(\"sent\") }\n",
    "print(df_by_sent)"
   ]
  },
  {
   "cell_type": "code",
   "execution_count": 15,
   "metadata": {},
   "outputs": [],
   "source": [
    "df.to_csv(\"results.txt\", index=False)"
   ]
  },
  {
   "cell_type": "code",
   "execution_count": null,
   "metadata": {},
   "outputs": [],
   "source": []
  }
 ],
 "metadata": {
  "kernelspec": {
   "display_name": "Python 3.8.0 64-bit",
   "language": "python",
   "name": "python38064bit20d1bf44d25e45bda9ab7ad4aa323f4c"
  },
  "language_info": {
   "codemirror_mode": {
    "name": "ipython",
    "version": 3
   },
   "file_extension": ".py",
   "mimetype": "text/x-python",
   "name": "python",
   "nbconvert_exporter": "python",
   "pygments_lexer": "ipython3",
   "version": "3.8.5"
  }
 },
 "nbformat": 4,
 "nbformat_minor": 4
}
