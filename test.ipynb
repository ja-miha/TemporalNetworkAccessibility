{
 "cells": [
  {
   "cell_type": "code",
   "execution_count": 10,
   "metadata": {},
   "outputs": [],
   "source": [
    "import numpy as np\n",
    "import pandas as pd\n",
    "import random as rn\n",
    "from src.AdjacencyMatrixSequence import AdjMatrixSequence"
   ]
  },
  {
   "cell_type": "code",
   "execution_count": 7,
   "metadata": {},
   "outputs": [],
   "source": [
    "file_path = \"edgelists/sociopatterns_hypertext.dat\""
   ]
  },
  {
   "cell_type": "code",
   "execution_count": 8,
   "metadata": {},
   "outputs": [],
   "source": [
    "AMS = AdjMatrixSequence(file_path, directed=True)"
   ]
  },
  {
   "cell_type": "code",
   "execution_count": 18,
   "metadata": {},
   "outputs": [
    {
     "data": {
      "text/plain": [
       "113"
      ]
     },
     "execution_count": 18,
     "metadata": {},
     "output_type": "execute_result"
    }
   ],
   "source": [
    "n_nodes = AMS.number_of_nodes\n",
    "n_nodes"
   ]
  },
  {
   "cell_type": "code",
   "execution_count": 40,
   "metadata": {},
   "outputs": [],
   "source": [
    "sentinels_ls = rn.sample(range(n_nodes), 10)\n",
    "sentinels = {d : sentinels_ls for d in range(10497) if d % 10 == 0}\n",
    "starts = rn.sample(range(n_nodes), 3)"
   ]
  },
  {
   "cell_type": "code",
   "execution_count": 23,
   "metadata": {},
   "outputs": [],
   "source": [
    "si_model = AMS.copy()\n",
    "si_model.dilute(0.85)"
   ]
  },
  {
   "cell_type": "code",
   "execution_count": 24,
   "metadata": {},
   "outputs": [
    {
     "name": "stdout",
     "output_type": "stream",
     "text": [
      "Starting epidemic at node  67\n",
      "Starting epidemic at node  101\n",
      "Starting epidemic at node  111\n"
     ]
    }
   ],
   "source": [
    "results = []\n",
    "for start in starts:\n",
    "    result = si_model.unfold_accessibility_with_sentinels(sentinels, start)\n",
    "    results.append(result)"
   ]
  },
  {
   "cell_type": "code",
   "execution_count": 27,
   "metadata": {},
   "outputs": [
    {
     "data": {
      "text/plain": [
       "[[84, 1270, 27],\n",
       " [39, 1310, 29],\n",
       " [29, 1500, 34],\n",
       " [86, 1610, 53],\n",
       " [47, 1770, 59],\n",
       " [59, 1820, 64],\n",
       " [7, 5070, 94],\n",
       " [37, 5620, 100],\n",
       " [2, 8730, 103],\n",
       " [1, 9890, 109],\n",
       " [29, 340, 4],\n",
       " [86, 450, 26],\n",
       " [39, 460, 29],\n",
       " [59, 540, 36],\n",
       " [7, 1000, 63],\n",
       " [84, 1190, 69],\n",
       " [47, 1770, 79],\n",
       " [37, 5620, 101],\n",
       " [2, 8730, 104],\n",
       " [47, 1770, 8],\n",
       " [39, 1790, 9],\n",
       " [59, 1820, 11],\n",
       " [29, 4440, 46],\n",
       " [84, 4850, 54],\n",
       " [7, 5070, 78],\n",
       " [37, 5620, 92],\n",
       " [2, 8730, 96],\n",
       " [86, 9140, 99]]"
      ]
     },
     "execution_count": 27,
     "metadata": {},
     "output_type": "execute_result"
    }
   ],
   "source": [
    "results_ls = []\n",
    "for dic in results:\n",
    "    ls = [[sent, dic[sent][0], dic[sent][1]] for sent in dic]\n",
    "    results_ls = results_ls + ls\n",
    "results_ls\n",
    "    "
   ]
  },
  {
   "cell_type": "code",
   "execution_count": 34,
   "metadata": {},
   "outputs": [
    {
     "data": {
      "text/html": [
       "<div>\n",
       "<style scoped>\n",
       "    .dataframe tbody tr th:only-of-type {\n",
       "        vertical-align: middle;\n",
       "    }\n",
       "\n",
       "    .dataframe tbody tr th {\n",
       "        vertical-align: top;\n",
       "    }\n",
       "\n",
       "    .dataframe thead th {\n",
       "        text-align: right;\n",
       "    }\n",
       "</style>\n",
       "<table border=\"1\" class=\"dataframe\">\n",
       "  <thead>\n",
       "    <tr style=\"text-align: right;\">\n",
       "      <th></th>\n",
       "      <th>sent</th>\n",
       "      <th>day</th>\n",
       "      <th>n_infected</th>\n",
       "    </tr>\n",
       "  </thead>\n",
       "  <tbody>\n",
       "    <tr>\n",
       "      <th>0</th>\n",
       "      <td>84</td>\n",
       "      <td>1270</td>\n",
       "      <td>27</td>\n",
       "    </tr>\n",
       "    <tr>\n",
       "      <th>1</th>\n",
       "      <td>39</td>\n",
       "      <td>1310</td>\n",
       "      <td>29</td>\n",
       "    </tr>\n",
       "    <tr>\n",
       "      <th>2</th>\n",
       "      <td>29</td>\n",
       "      <td>1500</td>\n",
       "      <td>34</td>\n",
       "    </tr>\n",
       "    <tr>\n",
       "      <th>3</th>\n",
       "      <td>86</td>\n",
       "      <td>1610</td>\n",
       "      <td>53</td>\n",
       "    </tr>\n",
       "    <tr>\n",
       "      <th>4</th>\n",
       "      <td>47</td>\n",
       "      <td>1770</td>\n",
       "      <td>59</td>\n",
       "    </tr>\n",
       "  </tbody>\n",
       "</table>\n",
       "</div>"
      ],
      "text/plain": [
       "   sent   day  n_infected\n",
       "0    84  1270          27\n",
       "1    39  1310          29\n",
       "2    29  1500          34\n",
       "3    86  1610          53\n",
       "4    47  1770          59"
      ]
     },
     "execution_count": 34,
     "metadata": {},
     "output_type": "execute_result"
    }
   ],
   "source": [
    "df = pd.DataFrame(results_ls, columns = [\"sent\", \"day\", \"n_infected\"])\n",
    "df.head()"
   ]
  },
  {
   "cell_type": "code",
   "execution_count": 46,
   "metadata": {},
   "outputs": [
    {
     "name": "stdout",
     "output_type": "stream",
     "text": [
      "{1: [[9890, 109]], 2: [[8730, 103], [8730, 104], [8730, 96]], 7: [[5070, 94], [1000, 63], [5070, 78]], 29: [[1500, 34], [340, 4], [4440, 46]], 37: [[5620, 100], [5620, 101], [5620, 92]], 39: [[1310, 29], [460, 29], [1790, 9]], 47: [[1770, 59], [1770, 79], [1770, 8]], 59: [[1820, 64], [540, 36], [1820, 11]], 84: [[1270, 27], [1190, 69], [4850, 54]], 86: [[1610, 53], [450, 26], [9140, 99]]}\n"
     ]
    }
   ],
   "source": [
    "df_by_sent = {i : j.drop(\"sent\", axis = 1).to_numpy().tolist() for i, j in df.groupby(\"sent\") }\n",
    "print(df_by_sent)"
   ]
  },
  {
   "cell_type": "code",
   "execution_count": 47,
   "metadata": {},
   "outputs": [
    {
     "data": {
      "text/plain": [
       "3"
      ]
     },
     "execution_count": 47,
     "metadata": {},
     "output_type": "execute_result"
    }
   ],
   "source": [
    "len(df_by_sent[86])"
   ]
  },
  {
   "cell_type": "code",
   "execution_count": null,
   "metadata": {},
   "outputs": [],
   "source": []
  }
 ],
 "metadata": {
  "kernelspec": {
   "display_name": "Python 3.8.0 64-bit",
   "language": "python",
   "name": "python38064bit20d1bf44d25e45bda9ab7ad4aa323f4c"
  },
  "language_info": {
   "codemirror_mode": {
    "name": "ipython",
    "version": 3
   },
   "file_extension": ".py",
   "mimetype": "text/x-python",
   "name": "python",
   "nbconvert_exporter": "python",
   "pygments_lexer": "ipython3",
   "version": "3.8.5"
  }
 },
 "nbformat": 4,
 "nbformat_minor": 4
}
